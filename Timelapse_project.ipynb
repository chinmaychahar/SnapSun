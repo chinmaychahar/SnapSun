{
  "nbformat": 4,
  "nbformat_minor": 0,
  "metadata": {
    "colab": {
      "name": "Timelapse project.ipynb",
      "provenance": []
    },
    "kernelspec": {
      "display_name": "Python 3",
      "language": "python",
      "name": "python3"
    },
    "language_info": {
      "codemirror_mode": {
        "name": "ipython",
        "version": 3
      },
      "file_extension": ".py",
      "mimetype": "text/x-python",
      "name": "python",
      "nbconvert_exporter": "python",
      "pygments_lexer": "ipython3",
      "version": "3.8.3"
    }
  },
  "cells": [
    {
      "cell_type": "markdown",
      "metadata": {
        "id": "dTMXh_K0XroZ"
      },
      "source": [
        "# Python Timelapse Project "
      ]
    },
    {
      "cell_type": "code",
      "metadata": {
        "id": "7skP8xQsWeGE"
      },
      "source": [
        "#importing required libraries\n",
        "import time\n",
        "import datetime\n",
        "from datetime import date \n",
        "import requests\n",
        "import urllib.request\n",
        "from bs4 import BeautifulSoup\n",
        "from PIL import Image,ImageDraw\n",
        "import glob\n",
        "import os"
      ],
      "execution_count": null,
      "outputs": []
    },
    {
      "cell_type": "code",
      "metadata": {
        "id": "wFZ8rHHDWeGK"
      },
      "source": [
        "#function for date validation\n",
        "\n",
        "def date_validation(day,month,year):\n",
        "    isValidDate = True\n",
        "    try:\n",
        "        datetime.datetime(int(year),int(month),int(day)) \n",
        "    except ValueError:\n",
        "        isValidDate = False\n",
        "    if(isValidDate):\n",
        "        return True\n",
        "    else:\n",
        "        return False "
      ],
      "execution_count": null,
      "outputs": []
    },
    {
      "cell_type": "code",
      "metadata": {
        "id": "3btplBR-Xroi"
      },
      "source": [
        "#fetching present date\n",
        "\n",
        "today = date.today() \n",
        "today=str(today)\n",
        "year,month,day = today.split('-')"
      ],
      "execution_count": null,
      "outputs": []
    },
    {
      "cell_type": "code",
      "metadata": {
        "id": "3ndDiESqh1cz"
      },
      "source": [
        "#Function to create gif\n",
        "def create_gif(i_date):\n",
        "    speed = 100\n",
        "    x = int(input(\"Choose gif speed -\\n1. Slow\\n2. Normal\\n3. Fast \"))\n",
        "    if x==1:\n",
        "        speed = 200\n",
        "    elif x==2:\n",
        "        speed = 100\n",
        "    elif x==3:\n",
        "        speed = 50\n",
        "    else:\n",
        "        print(\"Wrong input (Normal is the default speed)\")\n",
        "    frame = []\n",
        "    imgs = glob.glob(\"D:\\\\{}\\\\*.jpg\".format(i_date))\n",
        "    print(\"Creating gif with specified speed...\")\n",
        "    for i in imgs:\n",
        "        new_frame = Image.open(i)\n",
        "        frame.append(new_frame)\n",
        "        frame[0].save('D:\\\\{}\\\\{}.gif'.format(i_date,i_date),format=\"GIF\",append_images=frame[1:],save_all=True,duration=speed,loop=0)\n",
        "    print(\"Timelapse video successfully created.\\nPlease check in \" + i_date + \" folder in D drive.\") \n",
        "create_gif(20200606)"
      ],
      "execution_count": null,
      "outputs": []
    },
    {
      "cell_type": "code",
      "metadata": {
        "id": "tIUdYKhUXroj"
      },
      "source": [
        "#Using requests and beautifulsoup, retrieving images\n",
        "\n",
        "url2 = 'https://sdo.gsfc.nasa.gov/assets/img/browse/'\n",
        "headers = {\n",
        "    'Accept-Encoding': 'gzip, deflate, sdch',\n",
        "    'Accept-Language': 'en-US,en;q=0.8',\n",
        "    'User-Agent': 'Mozilla/5.0 (Macintosh; Intel Mac OS X 10_14_5) AppleWebKit/605.1.15 (KHTML, like Gecko) Version/12.1.1 Safari/605.1.15',\n",
        "    'Accept': 'text/html,application/xhtml+xml,application/xml;q=0.9,image/webp,*/*;q=0.8',\n",
        "    'Referer': 'http://www.google.com/',\n",
        "    'Connection': 'keep-alive',\n",
        "}\n",
        "\n",
        "def fetch_img(i_day,i_month,i_year,i_date):\n",
        "    url = 'https://sdo.gsfc.nasa.gov/assets/img/browse/index.php?b={}%2F{}%2F{}'.format(i_year,i_month,i_day)\n",
        "    r = requests.get(url=url, headers=headers)\n",
        "\n",
        "    soup = BeautifulSoup(r.text, 'html.parser')\n",
        "    \n",
        "    i = 0\n",
        "\n",
        "    for img in soup.findAll('a'):\n",
        "        i = i+1\n",
        "        image_temp = img.get('href')\n",
        "        i_url,e_url = image_temp.split(\".\")\n",
        "        #Checking the required telescope and image resolution\n",
        "        if i_url[-1:-9:-1] == '1710_215': \n",
        "            image_path = url2 + i_url + '.jpg'\n",
        "            local_path = \"D:\\\\{}\\\\{}.jpg\".format(i_date,i)\n",
        "            with open(local_path,'wb') as f:\n",
        "                f.write(requests.get(url = image_path).content)\n",
        "            f.close()\n",
        "        else:\n",
        "            pass\n",
        "    print(\"Images dowloaded. Now CREATING GIF..\")\n",
        "    #calling function to create gif\n",
        "    create_gif(i_date)"
      ],
      "execution_count": null,
      "outputs": []
    },
    {
      "cell_type": "code",
      "metadata": {
        "id": "Ef6P8bTRaIKt"
      },
      "source": [
        "print('''\n",
        "  _______ _____ __  __ ______   _               _____   _____ ______ \n",
        " |__   __|_   _|  \\/  |  ____| | |        /\\   |  __ \\ / ____|  ____|\n",
        "    | |    | | | \\  / | |__    | |       /  \\  | |__) | (___ | |__   \n",
        "    | |    | | | |\\/| |  __|   | |      / /\\ \\ |  ___/ \\___ \\|  __|  \n",
        "    | |   _| |_| |  | | |____  | |____ / ____ \\| |     ____) | |____ \n",
        "    |_|  |_____|_|  |_|______| |______/_/    \\_\\_|    |_____/|______| ''')\n",
        "                                                                     \n",
        "date = input('Input a date between 2011-2021 (YYYY-MM-DD): ')\n",
        "#slicing input dates\n",
        "i_year, i_month, i_day = date.split('-')\n",
        "i_date = i_year+i_month+i_day\n",
        "\n",
        "#if input year == current year and month > current month -> Error\n",
        "#if input year == current year and month = current month and input date > current date -> Error\n",
        "#if input year == current year and month = current month and input date < current date -> Fetch images\n",
        "#if input year == current yeear and month < current month -> Fetch images for any valid date\n",
        "#i_year = input year\n",
        "#year = current year\n",
        "\n",
        "if(i_year == year):\n",
        "    if(i_month <= month):\n",
        "        if(i_day <day):\n",
        "            print(\"FETCHING IMAGES....\")\n",
        "            os.mkdir('D:\\{}'.format(i_date))\n",
        "            fetch_img(i_day,i_month,i_year,i_date) \n",
        "        else:\n",
        "            print(\"\\n ERROR: Invalid Date\")\n",
        "    else:\n",
        "        print(\"\\n ERROR: Invalid Date\")\n",
        "elif(i_year < year and i_year > '2011' and date_validation(i_day,i_month,i_year)):\n",
        "    print(\"FETCHING IMAGES....\")\n",
        "    os.mkdir('D:\\{}'.format(i_date))\n",
        "    fetch_img(i_day,i_month,i_year,i_date)\n",
        "else:\n",
        "    print(\"Please input a correct date\")"
      ],
      "execution_count": null,
      "outputs": []
    }
  ]
}